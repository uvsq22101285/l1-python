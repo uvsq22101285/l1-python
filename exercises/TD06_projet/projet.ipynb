{
 "cells": [
  {
   "cell_type": "markdown",
   "metadata": {},
   "source": [
    "# TD Git : faire un projet à plusieurs"
   ]
  },
  {
   "cell_type": "markdown",
   "metadata": {},
   "source": [
    "---\n",
    "L'idée de ce TD consiste à apprendre à manipuler Git, et non nécessairement à finir le projet décrit ci-dessous. Il faut tout simplement qu'à la fin du TD, vous sachiez taper les commandes git vues en cours, et que vous ayiez vus des conflits ainsi leur gestion. Par conséquent, il faudra s'amuser à add-commit-pull-push fréquemment, dans le but de faire resurgir des erreurs, puis de demander à vos chargés de TD de vous aider avec. N'hésitez donc pas à jouer avec les commandes git. si le sujet n'est pas fini ce n'est pas grave, le sujet n'est là que pour avoir de la matière pour pouvoir faire des commits.\n",
    "\n",
    "Le chargé de TD doit vous mettre dans des salles zoom par groupe de 2, si le nombre d'étudiants est impair, il y a un groupe de 3, où le rôle de B est dédoublé.\n",
    "\n",
    "## 1.Premiers pas avec Git\n",
    "\n",
    "Vous avez normalement un compte GitHub. Vérifiez que vous pouvez vous y connecter. Choisissez un partenaire avec qui vous allez faire ce TD. Installez git si ce n'est pas déjà fait (normalement ca devrait l'être pour avoir accès au cours). Assurez-vous de pouvoir lancer le bash.\n",
    "\n",
    "1.  Configurez les couleurs de git ansi que votre pseudo si ce n'est pas déjà fait. Sur votre ordinateur, créez un répertoire intitulé gitProjects dans votre ordinateur qui contiendra votre version du projet.\n",
    "\n",
    "2. Vous êtes donc par deux. Une personne A et une personne B. Dans ce TD, certaines actions seront à réaliser par A et/ou par B. Décidez donc maintenant qui est A et qui est B.\n",
    "\n",
    "3. A crée un nouveau projet intitulé td_git sous GitHub, en se connectant à son compte, puis en choisissant `New repository` dans le menu accessible via le signe `+` en haut à droite de Github (attention à ne pas choisir `New project` dans ce menu). En créant un nouveau projet, GitHub propose d'initialiser le dépot avec un README. Faites le et remplissez le README en expliquant que ce projet est une calculatrice simple réalisée en python avec Tkinter. N'ajoutez pas de gitignore ou de licence.\n",
    "\n",
    "4.  A invite B (toujours sous GitHub) à participer au projet. Pour cela, sur la page du projet, aller dans le menu \"Settings\", puis choisir \"Manage access\", puis le bouton vert \"invite a collaborator\", et enfin, inscrire le nom d'utilisateur github de B (devant être sous la forme uvsqXXX, où XXX est le numéro d'étudiant). \n",
    "\n",
    "5. B doit accepter l'invitation depuis sa boîte mail ou bien les notifications sur son compte github (cloche en haut a gauche). À cette étape, A et B ont les droits sur le projet qui est sur github. \n",
    "\n",
    "6. Réalisez (A et B) votre premier clone du projet comme vu en cours, avec le protocole HTTPS.\n",
    "\n",
    "7. B rajoute le fichier (vide pour le moment) `calculatrice.py` dans le dépot github via la ligne de commande. C'est votre premier commit + push. Entre chaque opération, faites git status.\n",
    "\n",
    "8. A réalise son premier pull ! Maintenant, le fichier du TD est dans le dépot Git, vous pouvez travailler dessus séparément et localement."
   ]
  },
  {
   "cell_type": "markdown",
   "metadata": {},
   "source": [
    "---\n",
    "## 2.Début du projet: l'interface\n",
    "\n",
    "Nous allons donc réaliser une calculatrice simple en Python, c'est à dire une interface graphique, avec des boutons représentant les chiffres de 0 à 9, ainsi que la possibilité de réaliser les opérations de base d'une calculatrice. À la fin, seul le code qui fonctionne doit être présent dans le dépôt github. Seul le fichier `calculatrice.py` doit être déposé et mis à jour dans votre dépôt git. Voici un schéma décrivant un exemple d'interface attendue pour la calculatrice:\n",
    "\n",
    "![](Interface.jpg)\n",
    "\n",
    "9. Travail de A: après avoir discuté de la manière de coder cela, partagez vous le travail jusqu'à avoir l'interface complète (l'ensemble des widgets nécessaires à la calculatrice). Programmez uniquement l'interface. N'oubliez pas de commit et de push quelques fois, afin que B puisse commencer à travailler de son côté."
   ]
  },
  {
   "cell_type": "markdown",
   "metadata": {},
   "source": [
    "10. Travail de B: pendant que A réalise petit à petit l'interface et identifie les widgets, commencez à réaliser les fonctions associées aux widgets. Que doit réaliser l'action \"appuyer sur le 0\", appuyer sur le \"+\", ...? N'oubliez pas non plus de faire des tests, des commits, des pulls pour réaliser un travail cohérent avec A."
   ]
  },
  {
   "cell_type": "markdown",
   "metadata": {},
   "source": [
    "11. (optionnel, très avancé) Générez une clef ssh et ajoutez là à votre compte GitHub, afin de pouvoir pull et push sans avoir à donner votre nom d'utilisateur et mot de passe (il faut aussi changer d'url de dépot git).\n",
    "\n",
    "Tout ce qui suit doit être réalisé à deux, c'est à vous de vous organiser.\n",
    "\n",
    "12. Continuez jusqu'à avoir une calculatrice qui fait les choses suivantes: \n",
    "    - Il y a 10 boutons de numéros (0 à 9), quand on clique dessus, cela modifie une variable (c'est l'opérande en cours)\n",
    "    - Il y a 4 boutons (+, -, *, /) qui, quand on clique dessus permettent de définir la deuxième opérande (qui le sera en cliquant sur les boutons de numéros)\n",
    "    - Il y a une zone qui affiche l'expression en cours d'écriture, et qui donne le résultat quand on clique sur le bouton `=`\n",
    "    - Ajouter un bouton \"Effacer\" qui permet à l'utilisateur de réinitialiser l'affichage et les variables, pour pouvoir recommencer un nouveau calcul."
   ]
  },
  {
   "cell_type": "markdown",
   "metadata": {},
   "source": [
    "13. Quand vous avez fini cela, améliorez votre code pour pouvoir travailler sur des nombres flottants (il faut rajouter un bouton)."
   ]
  },
  {
   "cell_type": "markdown",
   "metadata": {},
   "source": [
    "14. Modifiez votre code pour pouvoir taper les numéros ou bien avec la souris en cliquant sur les boutons, ou bien en tapant sur le clavier."
   ]
  },
  {
   "cell_type": "raw",
   "metadata": {},
   "source": [
    "12. S'il vous reste du temps, rajoutez des boutons qui permettent d'afficher (tracer les courbes) lorsque l'on clique sur les boutons appropriés les fonctions suivantes:\n",
    "    - La fonction x -> x^2\n",
    "    - La fonction racine carrée\n",
    "    - La fonction logarithme\n",
    "    - La fonction exponentielle"
   ]
  }
 ],
 "metadata": {
  "kernelspec": {
   "display_name": "Python 3",
   "language": "python",
   "name": "python3"
  },
  "language_info": {
   "codemirror_mode": {
    "name": "ipython",
    "version": 3
   },
   "file_extension": ".py",
   "mimetype": "text/x-python",
   "name": "python",
   "nbconvert_exporter": "python",
   "pygments_lexer": "ipython3",
   "version": "3.8.3"
  }
 },
 "nbformat": 4,
 "nbformat_minor": 1
}