{
 "cells": [
  {
   "cell_type": "markdown",
   "metadata": {},
   "source": [
    "# Instructions Générales\n",
    "\n",
    "Ce TD est à faire en créant un fichier td3.py, que vous éditerez dans VSCode. \n",
    "Vous ne remplirez pas les cellules de ce notebook, mais vous les copierez au fur et à mesure \n",
    "dans votre fichier pour les compléter.\n",
    "\n",
    "Vous respecterez au mieux les règles d'écriture de code, en particulier chaque fonction devra avoir un **docstring** et des commentaires si nécessaire et les noms de variable seront illustratifs de leur usage. Vous utiliserez les outils de débogage (flake8, mypy, debugger, pythontutor ...) pour corriger vos bogues."
   ]
  },
  {
   "cell_type": "markdown",
   "metadata": {},
   "source": [
    "# Gestion du temps\n",
    "\n",
    "Nous allons créer un petit logiciel de gestion du temps et des dates.\n",
    "Pour cela nous aurons besoin de créer un certain nombre de fonctions utilitaires.\n",
    "\n",
    "Un temps a le format suivant: (jour: int, heure: int, minute: int, seconde: int).\n",
    "C'est un tuple de 4 éléments. Par exemple (4, 3, 13, 20) correspond à 4 jours, 3 heures, 13 minutes et 20 secondes.\n",
    "Si on a une variable temps = (4, 3, 13, 20), pour accéder au premier élément on fait temps\\[0\\] ce qui donne 4,\n",
    "le nombre de jours.\n",
    "\n",
    "Créer la fonction qui prend comme argument le temps et renvoie le nombre de seconde total correspondant à ce temps.\n",
    "Créer la fonction qui prend un nombre de secondes et renvoie le temps correspondant."
   ]
  },
  {
   "cell_type": "code",
   "execution_count": 11,
   "metadata": {},
   "outputs": [
    {
     "name": "stdout",
     "output_type": "stream",
     "text": [
      "<class 'tuple'>\n",
      "342094\n",
      "3 jours 23 heures 1 minutes 34 secondes\n"
     ]
    }
   ],
   "source": [
    "#temps[0] : jours, temps[1]: heures, temps[2]: minutes, temps[3]: secondes\n",
    "\n",
    "def tempsEnSeconde(temps):\n",
    "    \"\"\" Renvoie la valeur en seconde de temps donné comme jour, heure, minute, seconde.\"\"\"\n",
    "    a = 0\n",
    "    b = 0\n",
    "    c = 0\n",
    "    d = 0\n",
    "    if temps[0] != None:\n",
    "        a = temps[0] * 86400\n",
    "        if temps[1] != None:\n",
    "            b = temps[1] * 3600\n",
    "            if temps[2] != None: \n",
    "                c = temps[2] * 60\n",
    "                if temps[3] != None:\n",
    "                    d = temps[3]\n",
    "    else:\n",
    "        None\n",
    "    return a + b + c + d\n",
    "\n",
    "temps = (3,23,1,34)\n",
    "print(type(temps))\n",
    "print(tempsEnSeconde(temps))   \n",
    "\n",
    "def secondeEnTemps(seconde):\n",
    "    \"\"\"Renvoie le temps (jour, heure, minute, seconde) qui correspond au nombre de seconde passé en argument\"\"\"\n",
    "    a = seconde // 86400\n",
    "    reste1 = seconde - a * 86400\n",
    "    b = reste1 // 3600\n",
    "    reste2= reste1 - b * 3600\n",
    "    c = reste2 //60\n",
    "    reste3 = reste2 - c * 60\n",
    "    d = reste3 \n",
    "    liste = []\n",
    "    liste.append(a)\n",
    "    liste.append(b)\n",
    "    liste.append(c)\n",
    "    liste.append(d)\n",
    "    return liste\n",
    "     \n",
    "temps = secondeEnTemps(342094)\n",
    "print(temps[0],\"jours\",temps[1],\"heures\",temps[2],\"minutes\",temps[3],\"secondes\")\n"
   ]
  },
  {
   "cell_type": "markdown",
   "metadata": {},
   "source": [
    "Créer une fonction d'affichage d'un temps `afficheTemps`. Attention, les mots jour, heure et seconde doivent être au pluriel s'il y en a plusieurs. S'il y en a zéro, ils ne doivent pas apparaître.\n",
    "`print(message, end=\"\")` permet de ne pas sauter une ligne après un print. \n",
    "Vous pouvez écrire une fonction qui affiche un mot au pluriel ou non, appelée ensuite plusieurs fois par `afficheTemps` pour simplifier votre code.\n"
   ]
  },
  {
   "cell_type": "code",
   "execution_count": 12,
   "metadata": {},
   "outputs": [
    {
     "name": "stdout",
     "output_type": "stream",
     "text": [
      "il y a  1 Jour\n",
      "\n",
      "Il y a  14 Minutes\n",
      "Il y a  23 Secondes\n"
     ]
    }
   ],
   "source": [
    "def auxiliaire(Nb,Mot):\n",
    "     if Nb == 1:\n",
    "          print(\"il y a \",Nb, Mot)\n",
    "     elif Nb > 1:\n",
    "          print (\"Il y a \",Nb, Mot + \"s\")\n",
    "     else:\n",
    "          print(\"\")\n",
    "def afficheTemps (temps) :\n",
    "     auxiliaire(temps[0],\"Jour\")\n",
    "     auxiliaire(temps[1],\"Heure\")\n",
    "     auxiliaire(temps[2],\"Minute\")\n",
    "     auxiliaire(temps[3],\"Seconde\")\n",
    "\n",
    "\n",
    "afficheTemps((1,0,14,23))\n",
    "    "
   ]
  },
  {
   "cell_type": "markdown",
   "metadata": {},
   "source": [
    "Ecrire une fonction qui demande à l'utilisateur de rentrer un nombre de jours, d'heures, de minutes et\n",
    "de secondes et qui renvoie un temps. Attention, si l'entrée utilisateur n'est pas correcte, par exemple 80 minutes,\n",
    "afficher un message d'erreur et s'arrêter.\n",
    "\n",
    "(Optionnel) Au lieu d'arêter le programme, demander de rentrer une nouvelle valeur, tant que \n",
    "ce n'est pas une valeur correcte."
   ]
  },
  {
   "cell_type": "code",
   "execution_count": 13,
   "metadata": {},
   "outputs": [
    {
     "name": "stdout",
     "output_type": "stream",
     "text": [
      "15 Jours\n",
      "5 Heures\n",
      "erreur\n",
      "25 Secondes\n"
     ]
    }
   ],
   "source": [
    "def demandeTemps(temps) :\n",
    "    if temps[0]<=31:\n",
    "        print (temps[0], \"Jours\")\n",
    "    else:\n",
    "        print(\"erreur\")\n",
    "    if temps[1]<=23:\n",
    "        print (temps[1], \"Heures\")\n",
    "    else:\n",
    "        print(\"erreur\")\n",
    "    if temps[2]<=59:\n",
    "        print(temps[2],\"Minutes\")\n",
    "    else:\n",
    "        print(\"erreur\")\n",
    "    if temps[3]<=59:\n",
    "        print(temps[3],\"Secondes\")\n",
    "    else:\n",
    "        print(\"erreur\")\n",
    "\n",
    "demandeTemps((15,5,87,25))"
   ]
  },
  {
   "cell_type": "markdown",
   "metadata": {},
   "source": [
    "On veut être capable d'additionner deux temps. Donner une fonction qui fait ce calcul,\n",
    "en utilisant les fonctions précédentes."
   ]
  },
  {
   "cell_type": "code",
   "execution_count": 14,
   "metadata": {},
   "outputs": [
    {
     "name": "stdout",
     "output_type": "stream",
     "text": [
      "Il y a  8 Jours\n",
      "Il y a  2 Heures\n",
      "il y a  1 Minute\n",
      "Il y a  26 Secondes\n"
     ]
    }
   ],
   "source": [
    "\"\"\"def sommeTemps (temps1, temps2) :\n",
    "    j= temps1[0] + temps2[0]\n",
    "    h= temps1[1] + temps2[1]\n",
    "    m= temps1[2] + temps2[2]\n",
    "    s= temps1[3] + temps2[3]\n",
    "    if s <=59:\n",
    "        print(s,\"Secondes\")\n",
    "    else:\n",
    "        m = m+1 \n",
    "        s = s - 60\n",
    "        print(s,\"Secondes\")\n",
    "    if m <= 59:\n",
    "        print (m, \"Minutes\")\n",
    "    else:\n",
    "        h= h+1 \n",
    "        m = m - 60\n",
    "    if h<=23:\n",
    "        print(h,\"Heures\")\n",
    "    else:\n",
    "        j=j+1\n",
    "        h=h-24\n",
    "    if j<=31:\n",
    "        print(j,\"Jours\")\n",
    "    else:\n",
    "        print(\"Erreur\")\n",
    "        print (j, \"jours\",h, \"Heures\",m,\"minutes\",s,\"secondes\")\n",
    "\n",
    "sommeTemps((2,3,4,25),(5,22,57,1))\"\"\"\n",
    "\n",
    "def sommeTemps(temps1, temps2):\n",
    "    a = tempsEnSeconde(temps1)\n",
    "    b = tempsEnSeconde(temps2)\n",
    "    c = a + b \n",
    "    return afficheTemps(secondeEnTemps(c))\n",
    "\n",
    "sommeTemps((2,3,4,25),(5,22,57,1))"
   ]
  },
  {
   "cell_type": "markdown",
   "metadata": {},
   "source": [
    "On veut maintenant calculer un pourcentage d'un temps. Par exemple, 20% de\n",
    "2 jours et 36 minutes correspond à 9 heures, 43 minutes et 12 secondes.\n",
    "\n",
    "Implémenter la fonction `proportionTemps` puis appeler cette fonction en échangeant l'ordre des arguments mais en les nommant."
   ]
  },
  {
   "cell_type": "code",
   "execution_count": 15,
   "metadata": {},
   "outputs": [
    {
     "name": "stdout",
     "output_type": "stream",
     "text": [
      "\n",
      "Il y a  9 Heures\n",
      "Il y a  43 Minutes\n",
      "Il y a  12 Secondes\n"
     ]
    }
   ],
   "source": [
    "def proportionTemps(temps,proportion):\n",
    "    a = tempsEnSeconde(temps)\n",
    "    a = a * proportion\n",
    "    a = int(a)\n",
    "    return secondeEnTemps(a)\n",
    "    \n",
    "    \n",
    "  \n",
    "afficheTemps(proportionTemps((2,0,36,0),0.2))\n",
    "#appeler la fonction en échangeant l'ordre des arguments"
   ]
  },
  {
   "cell_type": "markdown",
   "metadata": {},
   "source": [
    "On veut maintenant afficher un temps sous forme de date, en supposant \n",
    "que le temps 0 est le 1 janvier 1970 à 00:00:00.\n",
    "\n",
    "* Implémenter une fonction `tempsEnDate`qui donne la date sous la forme (année, jour, heure, minute, seconde).\n",
    "* Implémenter la fonction `afficheDate`qui affiche la date. \n",
    "* (Optionnel) Gérer également les mois."
   ]
  },
  {
   "cell_type": "code",
   "execution_count": 16,
   "metadata": {},
   "outputs": [
    {
     "name": "stdout",
     "output_type": "stream",
     "text": [
      "Il y a  11574 Jours\n",
      "il y a  1 Heure\n",
      "Il y a  46 Minutes\n",
      "Il y a  40 Secondes\n",
      "On est en 2001 le 260 ème jour(s) il est 1 H 46 Min 40 s\n"
     ]
    }
   ],
   "source": [
    "def tempsEnDate(temps):\n",
    "    a = temps[0]\n",
    "    b = temps[1]\n",
    "    c = temps[2]\n",
    "    d = temps[3]\n",
    "    e = 0\n",
    "    liste = []\n",
    "    while a > 365 :\n",
    "        e = e + 1\n",
    "        a = a - 365\n",
    "    liste.append(e)\n",
    "    liste.append(a)\n",
    "    liste.append(b)\n",
    "    liste.append(c)\n",
    "    liste.append(d)\n",
    "    return liste\n",
    "        \n",
    "\n",
    "\n",
    "def afficheDate(date = -1):\n",
    "    annee = 1970\n",
    "    jour = 1 \n",
    "    Heures = 0\n",
    "    Minutes = 0\n",
    "    Secondes = 0 \n",
    "    print(\"On est en\",date[0]+annee,\"le\",date[1]+ jour,\"ème jour(s)\",\"il est\", date[2]+Heures,\"H\", date[3]+Minutes,\"Min\", date[4]+Secondes,\"s\")\n",
    "\n",
    "\n",
    "    \n",
    "temps = secondeEnTemps(1000000000)\n",
    "afficheTemps(temps)\n",
    "afficheDate(tempsEnDate(temps))\n",
    "#afficheDate()"
   ]
  },
  {
   "cell_type": "markdown",
   "metadata": {},
   "source": [
    "Il existe des fonctions dans la librairie `time` pour la gestion du temps. En particulier, il existe\n",
    "une fonction `time` qui donne le temps écoulé depuis 1970 en secondes. \n",
    "La trouver avec la [documentation python](https://docs.python.org/fr/3/library/time.html#module-time) et la tester en utilisant `afficheDate`. \n",
    "Tester de la même manière la fonction `time.gmtime` qui réalise une tâche similaire à `tempsEnDate`.\n",
    "Que constatez vous ?"
   ]
  },
  {
   "cell_type": "code",
   "execution_count": 17,
   "metadata": {},
   "outputs": [],
   "source": [
    "#tester ici les fonctions de la librairie time"
   ]
  },
  {
   "cell_type": "markdown",
   "metadata": {},
   "source": [
    "Attention, tous les 4 ans les années sont bisextiles (un jour de plus) sauf les multiples de 100 qui ne sont pas des multiples de 400.\n",
    "Donner un code qui prend un nombre de jours et affiche toutes les années bisextiles depuis 1 janvier 2020 à 00:00:00 jusqu'à la fin de ces jours."
   ]
  },
  {
   "cell_type": "code",
   "execution_count": 18,
   "metadata": {},
   "outputs": [
    {
     "name": "stdout",
     "output_type": "stream",
     "text": [
      "2024\n",
      "2028\n",
      "2032\n",
      "2036\n",
      "2040\n",
      "2044\n",
      "2048\n",
      "2052\n",
      "2056\n",
      "2060\n",
      "2064\n",
      "2068\n",
      "2072\n",
      "2076\n",
      "2080\n",
      "2084\n",
      "2088\n",
      "2092\n",
      "2096\n",
      "2104\n",
      "2108\n",
      "2112\n",
      "2116\n",
      "2120\n",
      "2124\n",
      "2128\n"
     ]
    }
   ],
   "source": [
    "def bisextile(jour):\n",
    "    annee = 2020\n",
    "    r = jour\n",
    "    if jour < 365:\n",
    "        (\"Pas assez de jours, on est toujours en 2020 et c'est bissextile\")\n",
    "    else:\n",
    "        while r > 0:\n",
    "            if r / 365 > 0:\n",
    "                annee = annee + 1\n",
    "                if annee %4 ==0 and annee%100!=0 or annee%400==0:\n",
    "                    r = r - 366\n",
    "                    print(annee)\n",
    "                else:\n",
    "                    r = r - 365\n",
    "            else:\n",
    "                print(annee)\n",
    "\n",
    "\n",
    "\n",
    "\n",
    "    #while r > 4 :\n",
    "        #annee = annee + 4\n",
    "        #r = r - 4\n",
    "        #if annee %4 ==0 and annee%100!=0 or annee%400==0:\n",
    "            #print(annee,\" est bissextile\")\n",
    "        #else: \n",
    "            #None\"\"\"\n",
    "\n",
    "        \n",
    "bisextile(40000)"
   ]
  },
  {
   "cell_type": "markdown",
   "metadata": {},
   "source": [
    "Implémenter une fonction `nombreBisextile` qui calcule le nombre d'années bisextiles pour un nombre de jour donnés pour corriger votre fonction de calcul de la date."
   ]
  },
  {
   "cell_type": "code",
   "execution_count": 19,
   "metadata": {},
   "outputs": [
    {
     "ename": "IndentationError",
     "evalue": "expected an indented block (1020011497.py, line 27)",
     "output_type": "error",
     "traceback": [
      "\u001b[0;36m  File \u001b[0;32m\"/var/folders/1s/llq0wckn1pj14wbmxyml4sjh0000gn/T/ipykernel_75945/1020011497.py\"\u001b[0;36m, line \u001b[0;32m27\u001b[0m\n\u001b[0;31m    temps = secondeEnTemps(1000000000)\u001b[0m\n\u001b[0m    ^\u001b[0m\n\u001b[0;31mIndentationError\u001b[0m\u001b[0;31m:\u001b[0m expected an indented block\n"
     ]
    }
   ],
   "source": [
    "def nombreBisextile(jour):\n",
    "    annee = 1970\n",
    "    r = jour\n",
    "    n = 0\n",
    "    if jour < 365:\n",
    "        (\"Pas assez de jours, on est toujours en 2020 et c'est bissextile\")\n",
    "    else:\n",
    "        while r > 0:\n",
    "            if r / 365 > 0:\n",
    "                annee = annee + 1\n",
    "                if annee %4 ==0 and annee%100!=0 or annee%400==0:\n",
    "                    r = r - 366\n",
    "                    n = n + 1\n",
    "                else:\n",
    "                    r = r - 365\n",
    "            else:\n",
    "                None\n",
    "        print(n, \"années bissextiles\")\n",
    "\n",
    "nombreBisextile(40000)\n",
    "\n",
    "def tempsEnDateBisextile(temps):\n",
    "     \n",
    "    \n",
    "    \n",
    "\n",
    "temps = secondeEnTemps(1000000000)\n",
    "afficheTemps(temps)\n",
    "afficheDate(tempsEnDateBisextile(temps))"
   ]
  },
  {
   "cell_type": "markdown",
   "metadata": {},
   "source": [
    "Ajouter des valeurs par défaut dans le code de `afficheDate` afin de pouvoir ommettre\n",
    "l'argument de ces fonctions. Dans ce cas là, on affichera la date actuelle en utilisant la fonction `time`."
   ]
  },
  {
   "cell_type": "markdown",
   "metadata": {},
   "source": [
    "On va maintenant inspecter notre code pour améliorer sa qualité:\n",
    "\n",
    "* Regarder tous les warnings donnés par flake8 et essayer de les régler.\n",
    "* Utiliser le debugger (F5) pour étudier le fonctionnement de votre fonction nombreBisextile.\n",
    "* Mettre les annotations de type des arguments et du retour de la fonction pour nombreBisextile et une autre fonction de votre choix. Vérifier avec mypy que tout fonctionne bien."
   ]
  },
  {
   "cell_type": "markdown",
   "metadata": {},
   "source": [
    "Donner une fonction qui vérifie la charge horaire d'un employé, donnée sous forme d'une liste de temps travaillé chaque semaine dans un mois. Il ne faut pas dépasser 48h par semaine et 140h par mois (qu'on considère ici de 4 semaines).\n",
    "\n",
    "(Optionnel) S'adapter à une liste qui peut contenir plusieurs mois."
   ]
  },
  {
   "cell_type": "code",
   "execution_count": null,
   "metadata": {},
   "outputs": [],
   "source": [
    "def verifie(liste_temps):\n",
    "    pass\n",
    "\n",
    "\n",
    "liste_temps = [[1,2,39,34],[0,1,9,4],[0,29,39,51],[0,31,13,46]]\n",
    "verifie(liste_temps)"
   ]
  },
  {
   "cell_type": "code",
   "execution_count": null,
   "metadata": {},
   "outputs": [
    {
     "ename": "NameError",
     "evalue": "name 'b' is not defined",
     "output_type": "error",
     "traceback": [
      "\u001b[0;31m---------------------------------------------------------------------------\u001b[0m",
      "\u001b[0;31mNameError\u001b[0m                                 Traceback (most recent call last)",
      "\u001b[0;32m<ipython-input-4-367e618768f7>\u001b[0m in \u001b[0;36m<module>\u001b[0;34m\u001b[0m\n\u001b[1;32m      8\u001b[0m \u001b[0mc\u001b[0m \u001b[0;34m=\u001b[0m \u001b[0;36m1\u001b[0m\u001b[0;34m\u001b[0m\u001b[0;34m\u001b[0m\u001b[0m\n\u001b[1;32m      9\u001b[0m \u001b[0;31m#b = calculs(3,4)\u001b[0m\u001b[0;34m\u001b[0m\u001b[0;34m\u001b[0m\u001b[0;34m\u001b[0m\u001b[0m\n\u001b[0;32m---> 10\u001b[0;31m \u001b[0mprint\u001b[0m\u001b[0;34m(\u001b[0m\u001b[0ma\u001b[0m\u001b[0;34m,\u001b[0m\u001b[0mb\u001b[0m\u001b[0;34m,\u001b[0m\u001b[0mc\u001b[0m\u001b[0;34m)\u001b[0m\u001b[0;34m\u001b[0m\u001b[0;34m\u001b[0m\u001b[0m\n\u001b[0m",
      "\u001b[0;31mNameError\u001b[0m: name 'b' is not defined"
     ]
    }
   ],
   "source": [
    "a = 2\n",
    "\n",
    "def calculs(b,c):\n",
    "    c = a * 2\n",
    "    a = 1\n",
    "    return a + b;\n",
    "\n",
    "c = 1\n",
    "b = calculs(3,4)\n",
    "print(a,b,c)"
   ]
  },
  {
   "cell_type": "code",
   "execution_count": null,
   "metadata": {},
   "outputs": [],
   "source": []
  }
 ],
 "metadata": {
  "interpreter": {
   "hash": "c451caee5a41039715188963466f09b520bafea4dbc148801047de92db5f9a7e"
  },
  "kernelspec": {
   "display_name": "Python 3.9.7 64-bit ('l1-python': conda)",
   "name": "python3"
  },
  "language_info": {
   "codemirror_mode": {
    "name": "ipython",
    "version": 3
   },
   "file_extension": ".py",
   "mimetype": "text/x-python",
   "name": "python",
   "nbconvert_exporter": "python",
   "pygments_lexer": "ipython3",
   "version": "3.9.7"
  }
 },
 "nbformat": 4,
 "nbformat_minor": 4
}
